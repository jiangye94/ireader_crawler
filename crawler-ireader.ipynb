{
 "cells": [
  {
   "cell_type": "markdown",
   "metadata": {},
   "source": [
    "## 爬取掌阅书籍的特价信息\n",
    "2018-08-08"
   ]
  },
  {
   "cell_type": "code",
   "execution_count": null,
   "metadata": {
    "collapsed": true
   },
   "outputs": [],
   "source": [
    "import requests\n",
    "import pandas as pd\n",
    "import time\n",
    "from lxml import etree"
   ]
  },
  {
   "cell_type": "code",
   "execution_count": null,
   "metadata": {
    "collapsed": true
   },
   "outputs": [],
   "source": [
    "# cid type\n",
    "# 93  小说\n",
    "# 113 文学\n",
    "# 142 历史\n",
    "# 179 社科\n",
    "# 168 心理"
   ]
  },
  {
   "cell_type": "code",
   "execution_count": null,
   "metadata": {},
   "outputs": [],
   "source": [
    "cids = [93,113,142,179,168]\n",
    "urls = []\n",
    "for cid in cids:\n",
    "    # 出版pid=92，特价status=2\n",
    "    url = 'http://www.ireader.com/index.php?ca=booksort.index&pca=channel.index&pid=92&cid='+str(cid)+'&order=download&status=2&page='\n",
    "    print('cid:'+str(cid),end=' ')\n",
    "    # 获取每一类别的前5页的书籍都URL\n",
    "    for i in range(5):\n",
    "        result = requests.get(url+str(i))\n",
    "        selector = etree.HTML(result.content)\n",
    "        hrefs = selector.xpath('//div[@class=\"show\"]/ul/li/a/@href')\n",
    "        urls.extend(hrefs)\n",
    "        print(i,end=' ')\n",
    "    print()\n",
    "    # 去重\n",
    "    book_urls = list(set(urls))\n",
    "    book_urls.sort(key = urls.index)\n",
    "\n",
    "names = []\n",
    "scores = []\n",
    "prices = []\n",
    "origs = []\n",
    "\n",
    "i = 0\n",
    "print(len(book_urls))\n",
    "for book_url in book_urls:\n",
    "    # 获取书籍页信息\n",
    "    book = requests.get(book_url)\n",
    "    book_selector = etree.HTML(book.text)\n",
    "\n",
    "    name = book_selector.xpath('//div[@class=\"bookname\"]/h2/a/text()')[0]\n",
    "    # 部分书籍没有评分\n",
    "    try:\n",
    "        score = book_selector.xpath('//div[@class=\"bookname\"]/span/text()')[0]\n",
    "    except:\n",
    "        score = 0\n",
    "    # 由于我选择的是特价页面，价格和原价都不为0\n",
    "    price = book_selector.xpath('//div[@class=\"left\"]/p/i[@class=\"price\"]/text()')[0]\n",
    "    orig = book_selector.xpath('//div[@class=\"left\"]/p/i[@class=\"orig\"]/text()')[0]\n",
    "\n",
    "    names.append(name)\n",
    "    scores.append(score)\n",
    "    prices.append(price)\n",
    "    origs.append(orig)\n",
    "    i += 1\n",
    "    if (i%10==0):\n",
    "        print(i,end=' ')\n",
    "    \n",
    "# 生成DataFrame\n",
    "book_dic = {'name':names, 'score':scores, 'price':prices, 'orig':origs}\n",
    "book_df = pd.DataFrame(book_dic)\n",
    "\n",
    "# 提取出价格和原始价格，并计算折扣\n",
    "book_df['price_num'] = book_df['price'].str.extract(r'(\\d+)', expand=False).astype(int)\n",
    "book_df['orig_num'] = book_df['orig'].str.extract(r'(\\d+)', expand=False).astype(int)\n",
    "book_df['discount'] = book_df['price_num']/book_df['orig_num']\n",
    "\n",
    "t = book_df.sort_values(['discount'])\n",
    "\n",
    "# 以当天的日期作为文件名，保存DataFrame\n",
    "time_now = time.strftime(\"%Y-%m-%d\", time.localtime())\n",
    "t.to_csv('./'+time_now+'.csv')\n",
    "         \n",
    "# 输出价格小于200月饼的前100本书\n",
    "pd.set_option('display.max_rows',100)\n",
    "t[t['price_num']<=200].head(100)"
   ]
  },
  {
   "cell_type": "code",
   "execution_count": null,
   "metadata": {
    "scrolled": false
   },
   "outputs": [],
   "source": [
    "t1 = t.sort_values(['score','discount'],ascending=[False,True])\n",
    "t1[t1['price_num']<=100].head(100)"
   ]
  },
  {
   "cell_type": "code",
   "execution_count": null,
   "metadata": {
    "collapsed": true
   },
   "outputs": [],
   "source": []
  }
 ],
 "metadata": {
  "kernelspec": {
   "display_name": "Python 3",
   "language": "python",
   "name": "python3"
  },
  "language_info": {
   "codemirror_mode": {
    "name": "ipython",
    "version": 3
   },
   "file_extension": ".py",
   "mimetype": "text/x-python",
   "name": "python",
   "nbconvert_exporter": "python",
   "pygments_lexer": "ipython3",
   "version": "3.6.2"
  }
 },
 "nbformat": 4,
 "nbformat_minor": 2
}
